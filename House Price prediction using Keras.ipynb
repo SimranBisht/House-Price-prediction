{
 "cells": [
  {
   "cell_type": "markdown",
   "metadata": {},
   "source": [
    "# Importing Libraries"
   ]
  },
  {
   "cell_type": "code",
   "execution_count": 1,
   "metadata": {},
   "outputs": [
    {
     "name": "stdout",
     "output_type": "stream",
     "text": [
      "Libraries Imported\n"
     ]
    }
   ],
   "source": [
    "import pandas as pd\n",
    "import matplotlib.pyplot as plt\n",
    "import tensorflow as tf\n",
    "\n",
    "from sklearn.model_selection import train_test_split\n",
    "from tensorflow.keras.models import Sequential\n",
    "from tensorflow.keras.layers import Dense\n",
    "from tensorflow.keras.callbacks import EarlyStopping\n",
    "\n",
    "%matplotlib inline\n",
    "tf.compat.v1.logging.set_verbosity(tf.compat.v1.logging.ERROR)\n",
    "\n",
    "print('Libraries Imported')\n"
   ]
  },
  {
   "cell_type": "markdown",
   "metadata": {},
   "source": [
    "# Importing Dataset"
   ]
  },
  {
   "cell_type": "code",
   "execution_count": 2,
   "metadata": {},
   "outputs": [
    {
     "data": {
      "text/html": [
       "<div>\n",
       "<style scoped>\n",
       "    .dataframe tbody tr th:only-of-type {\n",
       "        vertical-align: middle;\n",
       "    }\n",
       "\n",
       "    .dataframe tbody tr th {\n",
       "        vertical-align: top;\n",
       "    }\n",
       "\n",
       "    .dataframe thead th {\n",
       "        text-align: right;\n",
       "    }\n",
       "</style>\n",
       "<table border=\"1\" class=\"dataframe\">\n",
       "  <thead>\n",
       "    <tr style=\"text-align: right;\">\n",
       "      <th></th>\n",
       "      <th>serial</th>\n",
       "      <th>date</th>\n",
       "      <th>age</th>\n",
       "      <th>distance</th>\n",
       "      <th>stores</th>\n",
       "      <th>latitude</th>\n",
       "      <th>longitude</th>\n",
       "      <th>price</th>\n",
       "    </tr>\n",
       "  </thead>\n",
       "  <tbody>\n",
       "    <tr>\n",
       "      <th>0</th>\n",
       "      <td>0</td>\n",
       "      <td>2009</td>\n",
       "      <td>21</td>\n",
       "      <td>9</td>\n",
       "      <td>6</td>\n",
       "      <td>84</td>\n",
       "      <td>121</td>\n",
       "      <td>14264</td>\n",
       "    </tr>\n",
       "    <tr>\n",
       "      <th>1</th>\n",
       "      <td>1</td>\n",
       "      <td>2007</td>\n",
       "      <td>4</td>\n",
       "      <td>2</td>\n",
       "      <td>3</td>\n",
       "      <td>86</td>\n",
       "      <td>121</td>\n",
       "      <td>12032</td>\n",
       "    </tr>\n",
       "    <tr>\n",
       "      <th>2</th>\n",
       "      <td>2</td>\n",
       "      <td>2016</td>\n",
       "      <td>18</td>\n",
       "      <td>3</td>\n",
       "      <td>7</td>\n",
       "      <td>90</td>\n",
       "      <td>120</td>\n",
       "      <td>13560</td>\n",
       "    </tr>\n",
       "    <tr>\n",
       "      <th>3</th>\n",
       "      <td>3</td>\n",
       "      <td>2002</td>\n",
       "      <td>13</td>\n",
       "      <td>2</td>\n",
       "      <td>2</td>\n",
       "      <td>80</td>\n",
       "      <td>128</td>\n",
       "      <td>12029</td>\n",
       "    </tr>\n",
       "    <tr>\n",
       "      <th>4</th>\n",
       "      <td>4</td>\n",
       "      <td>2014</td>\n",
       "      <td>25</td>\n",
       "      <td>5</td>\n",
       "      <td>8</td>\n",
       "      <td>81</td>\n",
       "      <td>122</td>\n",
       "      <td>14157</td>\n",
       "    </tr>\n",
       "  </tbody>\n",
       "</table>\n",
       "</div>"
      ],
      "text/plain": [
       "   serial  date  age  distance  stores  latitude  longitude  price\n",
       "0       0  2009   21         9       6        84        121  14264\n",
       "1       1  2007    4         2       3        86        121  12032\n",
       "2       2  2016   18         3       7        90        120  13560\n",
       "3       3  2002   13         2       2        80        128  12029\n",
       "4       4  2014   25         5       8        81        122  14157"
      ]
     },
     "execution_count": 2,
     "metadata": {},
     "output_type": "execute_result"
    }
   ],
   "source": [
    "column_names=['serial', 'date', 'age', 'distance', 'stores', 'latitude', 'longitude', 'price']\n",
    "df=pd.read_csv('data.csv',names=column_names)\n",
    "df.head()"
   ]
  },
  {
   "cell_type": "markdown",
   "metadata": {},
   "source": [
    "# Check for missing-data"
   ]
  },
  {
   "cell_type": "code",
   "execution_count": 3,
   "metadata": {},
   "outputs": [
    {
     "data": {
      "text/plain": [
       "serial       0\n",
       "date         0\n",
       "age          0\n",
       "distance     0\n",
       "stores       0\n",
       "latitude     0\n",
       "longitude    0\n",
       "price        0\n",
       "dtype: int64"
      ]
     },
     "execution_count": 3,
     "metadata": {},
     "output_type": "execute_result"
    }
   ],
   "source": [
    "df.isna().sum()\n",
    "#sum() method calculates the number of null values that are found by the isna() method"
   ]
  },
  {
   "cell_type": "markdown",
   "metadata": {},
   "source": [
    "# Data Normalization "
   ]
  },
  {
   "cell_type": "code",
   "execution_count": 4,
   "metadata": {},
   "outputs": [
    {
     "data": {
      "text/html": [
       "<div>\n",
       "<style scoped>\n",
       "    .dataframe tbody tr th:only-of-type {\n",
       "        vertical-align: middle;\n",
       "    }\n",
       "\n",
       "    .dataframe tbody tr th {\n",
       "        vertical-align: top;\n",
       "    }\n",
       "\n",
       "    .dataframe thead th {\n",
       "        text-align: right;\n",
       "    }\n",
       "</style>\n",
       "<table border=\"1\" class=\"dataframe\">\n",
       "  <thead>\n",
       "    <tr style=\"text-align: right;\">\n",
       "      <th></th>\n",
       "      <th>date</th>\n",
       "      <th>age</th>\n",
       "      <th>distance</th>\n",
       "      <th>stores</th>\n",
       "      <th>latitude</th>\n",
       "      <th>longitude</th>\n",
       "      <th>price</th>\n",
       "    </tr>\n",
       "  </thead>\n",
       "  <tbody>\n",
       "    <tr>\n",
       "      <th>0</th>\n",
       "      <td>0.015978</td>\n",
       "      <td>0.181384</td>\n",
       "      <td>1.257002</td>\n",
       "      <td>0.345224</td>\n",
       "      <td>-0.307212</td>\n",
       "      <td>-1.260799</td>\n",
       "      <td>0.350088</td>\n",
       "    </tr>\n",
       "    <tr>\n",
       "      <th>1</th>\n",
       "      <td>-0.350485</td>\n",
       "      <td>-1.319118</td>\n",
       "      <td>-0.930610</td>\n",
       "      <td>-0.609312</td>\n",
       "      <td>0.325301</td>\n",
       "      <td>-1.260799</td>\n",
       "      <td>-1.836486</td>\n",
       "    </tr>\n",
       "    <tr>\n",
       "      <th>2</th>\n",
       "      <td>1.298598</td>\n",
       "      <td>-0.083410</td>\n",
       "      <td>-0.618094</td>\n",
       "      <td>0.663402</td>\n",
       "      <td>1.590328</td>\n",
       "      <td>-1.576456</td>\n",
       "      <td>-0.339584</td>\n",
       "    </tr>\n",
       "    <tr>\n",
       "      <th>3</th>\n",
       "      <td>-1.266643</td>\n",
       "      <td>-0.524735</td>\n",
       "      <td>-0.930610</td>\n",
       "      <td>-0.927491</td>\n",
       "      <td>-1.572238</td>\n",
       "      <td>0.948803</td>\n",
       "      <td>-1.839425</td>\n",
       "    </tr>\n",
       "    <tr>\n",
       "      <th>4</th>\n",
       "      <td>0.932135</td>\n",
       "      <td>0.534444</td>\n",
       "      <td>0.006938</td>\n",
       "      <td>0.981581</td>\n",
       "      <td>-1.255981</td>\n",
       "      <td>-0.945141</td>\n",
       "      <td>0.245266</td>\n",
       "    </tr>\n",
       "  </tbody>\n",
       "</table>\n",
       "</div>"
      ],
      "text/plain": [
       "       date       age  distance    stores  latitude  longitude     price\n",
       "0  0.015978  0.181384  1.257002  0.345224 -0.307212  -1.260799  0.350088\n",
       "1 -0.350485 -1.319118 -0.930610 -0.609312  0.325301  -1.260799 -1.836486\n",
       "2  1.298598 -0.083410 -0.618094  0.663402  1.590328  -1.576456 -0.339584\n",
       "3 -1.266643 -0.524735 -0.930610 -0.927491 -1.572238   0.948803 -1.839425\n",
       "4  0.932135  0.534444  0.006938  0.981581 -1.255981  -0.945141  0.245266"
      ]
     },
     "execution_count": 4,
     "metadata": {},
     "output_type": "execute_result"
    }
   ],
   "source": [
    "df=df.iloc[:,1:]\n",
    "df_norm=(df-df.mean())/df.std()\n",
    "#normalization helps us to bring all the samples in the same range\n",
    "\n",
    "df_norm.head()"
   ]
  },
  {
   "cell_type": "markdown",
   "metadata": {},
   "source": [
    "# Training and Testing sets"
   ]
  },
  {
   "cell_type": "code",
   "execution_count": 5,
   "metadata": {},
   "outputs": [
    {
     "name": "stdout",
     "output_type": "stream",
     "text": [
      "features :-\n",
      "       date       age  distance    stores  latitude  longitude\n",
      "0  0.015978  0.181384  1.257002  0.345224 -0.307212  -1.260799\n",
      "1 -0.350485 -1.319118 -0.930610 -0.609312  0.325301  -1.260799\n",
      "2  1.298598 -0.083410 -0.618094  0.663402  1.590328  -1.576456\n",
      "3 -1.266643 -0.524735 -0.930610 -0.927491 -1.572238   0.948803\n",
      "4  0.932135  0.534444  0.006938  0.981581 -1.255981  -0.945141\n",
      "\n",
      "label :-\n",
      "      price\n",
      "0  0.350088\n",
      "1 -1.836486\n",
      "2 -0.339584\n",
      "3 -1.839425\n",
      "4  0.245266\n",
      "\n",
      "Features array shape: (5000, 6)\n",
      "Label array shape: (5000, 1)\n"
     ]
    }
   ],
   "source": [
    "#selecting features\n",
    "x=df_norm.iloc[:,:6]\n",
    "print('features :-')\n",
    "print(x.head())\n",
    "print()\n",
    "\n",
    "\n",
    "#selecting labels\n",
    "y=df_norm.iloc[:,6:]\n",
    "print('label :-')\n",
    "print(y.head())\n",
    "print()\n",
    "\n",
    "#feature and label values\n",
    "x_arr=x.values\n",
    "y_arr=y.values\n",
    "print('Features array shape:',x_arr.shape)\n",
    "print('Label array shape:',y_arr.shape)\n"
   ]
  },
  {
   "cell_type": "markdown",
   "metadata": {},
   "source": [
    "# Train/Test split"
   ]
  },
  {
   "cell_type": "code",
   "execution_count": 6,
   "metadata": {},
   "outputs": [
    {
     "name": "stdout",
     "output_type": "stream",
     "text": [
      "Training Set: (2500, 6) (2500, 1)\n",
      "Testing Set: (2500, 6) (2500, 1)\n"
     ]
    }
   ],
   "source": [
    "x_train, x_test, y_train, y_test = train_test_split(x_arr, y_arr, test_size=0.5, random_state=0)\n",
    "#creating a training/testing set helps the model to learn from one part of dataset and make predictions on the other part \n",
    "#the predictions are therefore unbiased\n",
    "\n",
    "print('Training Set:', x_train.shape, y_train.shape)\n",
    "print('Testing Set:', x_test.shape, y_test.shape)"
   ]
  },
  {
   "cell_type": "markdown",
   "metadata": {},
   "source": [
    "# Creating Model"
   ]
  },
  {
   "cell_type": "code",
   "execution_count": 7,
   "metadata": {},
   "outputs": [
    {
     "name": "stdout",
     "output_type": "stream",
     "text": [
      "Model: \"sequential\"\n",
      "_________________________________________________________________\n",
      "Layer (type)                 Output Shape              Param #   \n",
      "=================================================================\n",
      "dense (Dense)                (None, 10)                70        \n",
      "_________________________________________________________________\n",
      "dense_1 (Dense)              (None, 20)                220       \n",
      "_________________________________________________________________\n",
      "dense_2 (Dense)              (None, 5)                 105       \n",
      "_________________________________________________________________\n",
      "dense_3 (Dense)              (None, 1)                 6         \n",
      "=================================================================\n",
      "Total params: 401\n",
      "Trainable params: 401\n",
      "Non-trainable params: 0\n",
      "_________________________________________________________________\n"
     ]
    }
   ],
   "source": [
    "#below is the architecture of our Neural Network: Sequential-type model from Keras. \n",
    "#it has 10 neurons in the input layer followed by a dense layer of 20 neurons and then again 5 neurons and at last the output layer having a single neuron.\n",
    "#we are using ‘relu’ as the activation function for all our layers.\n",
    "def get_model():\n",
    "    model = Sequential([\n",
    "        Dense(10, input_shape=(6,), activation='relu'),\n",
    "        Dense(20, activation='relu'),\n",
    "        Dense(5, activation='relu'),\n",
    "        Dense(1)\n",
    "    ])\n",
    "    model.compile(optimizer='adam',loss='mse',metrics=['mse'])\n",
    "    return model\n",
    "\n",
    "get_model().summary()\n",
    "    "
   ]
  },
  {
   "cell_type": "markdown",
   "metadata": {},
   "source": [
    "# Model Training"
   ]
  },
  {
   "cell_type": "code",
   "execution_count": 8,
   "metadata": {},
   "outputs": [
    {
     "name": "stdout",
     "output_type": "stream",
     "text": [
      "Train on 2500 samples, validate on 2500 samples\n",
      "Epoch 1/100\n",
      "2500/2500 [==============================] - 1s 313us/sample - loss: 0.9369 - mse: 0.9369 - val_loss: 0.7908 - val_mse: 0.7908\n",
      "Epoch 2/100\n",
      "2500/2500 [==============================] - 0s 90us/sample - loss: 0.6282 - mse: 0.6282 - val_loss: 0.3646 - val_mse: 0.3646\n",
      "Epoch 3/100\n",
      "2500/2500 [==============================] - 0s 93us/sample - loss: 0.2800 - mse: 0.2800 - val_loss: 0.2109 - val_mse: 0.2109\n",
      "Epoch 4/100\n",
      "2500/2500 [==============================] - 0s 92us/sample - loss: 0.2057 - mse: 0.2057 - val_loss: 0.1849 - val_mse: 0.1849\n",
      "Epoch 5/100\n",
      "2500/2500 [==============================] - 0s 93us/sample - loss: 0.1887 - mse: 0.1887 - val_loss: 0.1751 - val_mse: 0.1751\n",
      "Epoch 6/100\n",
      "2500/2500 [==============================] - 0s 86us/sample - loss: 0.1789 - mse: 0.1789 - val_loss: 0.1691 - val_mse: 0.1691\n",
      "Epoch 7/100\n",
      "2500/2500 [==============================] - 0s 94us/sample - loss: 0.1722 - mse: 0.1722 - val_loss: 0.1672 - val_mse: 0.1672\n",
      "Epoch 8/100\n",
      "2500/2500 [==============================] - 0s 85us/sample - loss: 0.1685 - mse: 0.1685 - val_loss: 0.1655 - val_mse: 0.1655\n",
      "Epoch 9/100\n",
      "2500/2500 [==============================] - 0s 94us/sample - loss: 0.1669 - mse: 0.1669 - val_loss: 0.1660 - val_mse: 0.1660\n",
      "Epoch 10/100\n",
      "2500/2500 [==============================] - 0s 88us/sample - loss: 0.1658 - mse: 0.1658 - val_loss: 0.1622 - val_mse: 0.1622\n",
      "Epoch 11/100\n",
      "2500/2500 [==============================] - 0s 88us/sample - loss: 0.1635 - mse: 0.1635 - val_loss: 0.1638 - val_mse: 0.1638\n",
      "Epoch 12/100\n",
      "2500/2500 [==============================] - 0s 91us/sample - loss: 0.1610 - mse: 0.1610 - val_loss: 0.1643 - val_mse: 0.1643\n",
      "Epoch 13/100\n",
      "2500/2500 [==============================] - 0s 91us/sample - loss: 0.1610 - mse: 0.1610 - val_loss: 0.1655 - val_mse: 0.1655\n",
      "Epoch 14/100\n",
      "2500/2500 [==============================] - 0s 92us/sample - loss: 0.1601 - mse: 0.1601 - val_loss: 0.1612 - val_mse: 0.1612\n",
      "Epoch 15/100\n",
      "2500/2500 [==============================] - 0s 85us/sample - loss: 0.1577 - mse: 0.1577 - val_loss: 0.1590 - val_mse: 0.1590\n",
      "Epoch 16/100\n",
      "2500/2500 [==============================] - 0s 87us/sample - loss: 0.1575 - mse: 0.1575 - val_loss: 0.1597 - val_mse: 0.1597\n",
      "Epoch 17/100\n",
      "2500/2500 [==============================] - 0s 106us/sample - loss: 0.1583 - mse: 0.1583 - val_loss: 0.1593 - val_mse: 0.1593\n",
      "Epoch 18/100\n",
      "2500/2500 [==============================] - 0s 86us/sample - loss: 0.1556 - mse: 0.1556 - val_loss: 0.1586 - val_mse: 0.1586\n",
      "Epoch 19/100\n",
      "2500/2500 [==============================] - 0s 91us/sample - loss: 0.1549 - mse: 0.1549 - val_loss: 0.1592 - val_mse: 0.1592\n",
      "Epoch 20/100\n",
      "2500/2500 [==============================] - 0s 86us/sample - loss: 0.1535 - mse: 0.1535 - val_loss: 0.1580 - val_mse: 0.1580\n",
      "Epoch 21/100\n",
      "2500/2500 [==============================] - 0s 94us/sample - loss: 0.1535 - mse: 0.1535 - val_loss: 0.1588 - val_mse: 0.1588\n",
      "Epoch 22/100\n",
      "2500/2500 [==============================] - 0s 89us/sample - loss: 0.1523 - mse: 0.1523 - val_loss: 0.1594 - val_mse: 0.1594\n",
      "Epoch 23/100\n",
      "2500/2500 [==============================] - 0s 92us/sample - loss: 0.1521 - mse: 0.1521 - val_loss: 0.1571 - val_mse: 0.1571\n",
      "Epoch 24/100\n",
      "2500/2500 [==============================] - 0s 88us/sample - loss: 0.1519 - mse: 0.1519 - val_loss: 0.1581 - val_mse: 0.1581\n",
      "Epoch 25/100\n",
      "2500/2500 [==============================] - 0s 85us/sample - loss: 0.1521 - mse: 0.1521 - val_loss: 0.1585 - val_mse: 0.1585\n",
      "Epoch 26/100\n",
      "2500/2500 [==============================] - 0s 94us/sample - loss: 0.1509 - mse: 0.1509 - val_loss: 0.1581 - val_mse: 0.1581\n",
      "Epoch 27/100\n",
      "2500/2500 [==============================] - 0s 87us/sample - loss: 0.1531 - mse: 0.1531 - val_loss: 0.1615 - val_mse: 0.1615\n",
      "Epoch 28/100\n",
      "2500/2500 [==============================] - 0s 94us/sample - loss: 0.1512 - mse: 0.1512 - val_loss: 0.1574 - val_mse: 0.1574\n"
     ]
    },
    {
     "data": {
      "text/plain": [
       "[<matplotlib.lines.Line2D at 0x2db63551e08>]"
      ]
     },
     "execution_count": 8,
     "metadata": {},
     "output_type": "execute_result"
    },
    {
     "data": {
      "image/png": "[encoded data removed]",
      "text/plain": [
       "<Figure size 432x288 with 1 Axes>"
      ]
     },
     "metadata": {
      "needs_background": "light"
     },
     "output_type": "display_data"
    }
   ],
   "source": [
    "#Keras supports the early stopping of training via a callback called EarlyStopping.\n",
    "#It keeps track of the accuracy values of the model and when the accuracy for the last n epochs isn’t changing, it automatically stops the training. \n",
    "es_cb = EarlyStopping(monitor='val_loss', patience=5)\n",
    "\n",
    "model=get_model()\n",
    "preds_on_untrained = model.predict(x_test)\n",
    "\n",
    "history=model.fit(\n",
    "    x_train, y_train, validation_data = (x_test, y_test), \n",
    "    epochs=100, callbacks=[es_cb]\n",
    "    )\n",
    "\n",
    "#a line plot of the mean_squared_error over the training epochs is created\n",
    "plt.plot(history.history['mse'])"
   ]
  },
  {
   "cell_type": "markdown",
   "metadata": {},
   "source": [
    "# Plot : Training and Validation Loss"
   ]
  },
  {
   "cell_type": "code",
   "execution_count": 9,
   "metadata": {},
   "outputs": [
    {
     "data": {
      "image/png": "[encoded data removed]",
      "text/plain": [
       "<Figure size 576x576 with 1 Axes>"
      ]
     },
     "metadata": {
      "needs_background": "light"
     },
     "output_type": "display_data"
    }
   ],
   "source": [
    "#a graph plotted between Validation and Training loss\n",
    "def plot_loss(history):\n",
    "    h=history.history\n",
    "    x_lim = len(h['loss'])\n",
    "    plt.figure(figsize=(8, 8))\n",
    "    plt.plot(range(x_lim), h['val_loss'], label = 'Validation Loss')\n",
    "    plt.plot(range(x_lim), h['loss'], label = 'Training Loss')\n",
    "    plt.xlabel('Epochs')\n",
    "    plt.ylabel('Loss')\n",
    "    plt.legend()\n",
    "    plt.show()\n",
    "    return\n",
    "\n",
    "plot_loss(history)\n"
   ]
  },
  {
   "cell_type": "markdown",
   "metadata": {},
   "source": [
    "# Plot price predictions"
   ]
  },
  {
   "cell_type": "code",
   "execution_count": 10,
   "metadata": {},
   "outputs": [
    {
     "data": {
      "image/png": "[encoded data removed]",
      "text/plain": [
       "<Figure size 576x576 with 1 Axes>"
      ]
     },
     "metadata": {
      "needs_background": "light"
     },
     "output_type": "display_data"
    }
   ],
   "source": [
    "#converting the normalized-price features back to price\n",
    "y_mean = df['price'].mean()\n",
    "y_std = df['price'].std()\n",
    "\n",
    "def convert_label_value(pred):\n",
    "    return int(pred * y_std + y_mean)\n",
    "\n",
    "preds_on_trained =  model.predict(x_test)\n",
    "\n",
    "#plotting a graph between trained and untrained values\n",
    "price_untrained = [convert_label_value(y) for y in preds_on_untrained]\n",
    "price_trained = [convert_label_value(y) for y in preds_on_trained]\n",
    "price_test = [convert_label_value(y) for y in y_test]\n",
    "\n",
    "def compare_predictions(preds1, preds2, y_test):\n",
    "    plt.figure(figsize=(8, 8))\n",
    "    plt.plot(preds1, y_test, 'ro', label='Untrained Model')\n",
    "    plt.plot(preds2, y_test, 'go', label='Trained Model')\n",
    "    plt.xlabel('Preds')\n",
    "    plt.ylabel('Labels')\n",
    "    \n",
    "    y_min = min(min(y_test), min(preds1), min(preds2))\n",
    "    y_max = max(max(y_test), max(preds1), max(preds2))\n",
    "    \n",
    "    plt.xlim([y_min, y_max])\n",
    "    plt.ylim([y_min, y_max])\n",
    "    plt.plot([y_min, y_max], [y_min, y_max], 'b--')\n",
    "    plt.legend()\n",
    "    plt.show()\n",
    "    return\n",
    "\n",
    "compare_predictions(price_untrained, price_trained, price_test)"
   ]
  }
 ],
 "metadata": {
  "kernelspec": {
   "display_name": "Python 3",
   "language": "python",
   "name": "python3"
  },
  "language_info": {
   "codemirror_mode": {
    "name": "ipython",
    "version": 3
   },
   "file_extension": ".py",
   "mimetype": "text/x-python",
   "name": "python",
   "nbconvert_exporter": "python",
   "pygments_lexer": "ipython3",
   "version": "3.7.7"
  }
 },
 "nbformat": 4,
 "nbformat_minor": 4
}
